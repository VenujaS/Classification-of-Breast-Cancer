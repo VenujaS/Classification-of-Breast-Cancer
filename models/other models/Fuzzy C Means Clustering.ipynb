{
 "cells": [
  {
   "cell_type": "code",
   "execution_count": 1,
   "id": "ecf0ee3f",
   "metadata": {},
   "outputs": [
    {
     "name": "stdout",
     "output_type": "stream",
     "text": [
      "<class 'pandas.core.frame.DataFrame'>\n",
      "RangeIndex: 700 entries, 0 to 699\n",
      "Data columns (total 11 columns):\n",
      " #   Column                       Non-Null Count  Dtype \n",
      "---  ------                       --------------  ----- \n",
      " 0   Sample_code_number           700 non-null    object\n",
      " 1   Clump_thickness              700 non-null    object\n",
      " 2   Uniformity_of_cell_size      700 non-null    object\n",
      " 3   Uniformity_of_cell_shape     700 non-null    object\n",
      " 4   Marginal_adhesion            700 non-null    object\n",
      " 5   Single_epithelial_cell_size  700 non-null    object\n",
      " 6   Bare Nuclei                  700 non-null    object\n",
      " 7   Bland Chromatin              700 non-null    object\n",
      " 8   Normal_nucleoli              700 non-null    object\n",
      " 9   Mitoses                      700 non-null    object\n",
      " 10  class                        700 non-null    object\n",
      "dtypes: object(11)\n",
      "memory usage: 60.3+ KB\n"
     ]
    }
   ],
   "source": [
    "import pandas as pd\n",
    "import numpy as np\n",
    "\n",
    "# Load the dataset\n",
    "dataset = 'breast-cancer-wisconsin.csv'\n",
    "column_names = [\"Sample_code_number\", \"Clump_thickness\", \"Uniformity_of_cell_size\", \"Uniformity_of_cell_shape\",\n",
    "                \"Marginal_adhesion\", \"Single_epithelial_cell_size\", \"Bare Nuclei\", \"Bland Chromatin\",\n",
    "                \"Normal_nucleoli\", \"Mitoses\", \"class\"]\n",
    "data = pd.read_csv(dataset, header=None, names=column_names)\n",
    "data.info()"
   ]
  },
  {
   "cell_type": "code",
   "execution_count": 2,
   "id": "98ad3dbd",
   "metadata": {},
   "outputs": [
    {
     "name": "stdout",
     "output_type": "stream",
     "text": [
      "Sample_code_number              0\n",
      "Clump_thickness                 0\n",
      "Uniformity_of_cell_size         0\n",
      "Uniformity_of_cell_shape        0\n",
      "Marginal_adhesion               0\n",
      "Single_epithelial_cell_size     0\n",
      "Bare Nuclei                    16\n",
      "Bland Chromatin                 0\n",
      "Normal_nucleoli                 0\n",
      "Mitoses                         0\n",
      "class                           0\n",
      "dtype: int64\n"
     ]
    }
   ],
   "source": [
    "# Check for '?' in the dataset\n",
    "print((data == '?').sum())"
   ]
  },
  {
   "cell_type": "code",
   "execution_count": 3,
   "id": "499feb23",
   "metadata": {},
   "outputs": [],
   "source": [
    "# Filter out rows with '?' in the 'Bare Nuclei' column\n",
    "mask = data['Bare Nuclei'] != \"?\"\n",
    "new_data = data[mask]"
   ]
  },
  {
   "cell_type": "code",
   "execution_count": 4,
   "id": "5376df53",
   "metadata": {},
   "outputs": [
    {
     "data": {
      "text/plain": [
       "<bound method DataFrame.info of      Sample_code_number  Clump_thickness  Uniformity_of_cell_size  \\\n",
       "0    Sample_code_number  Clump_thickness  Uniformity_of_cell_size   \n",
       "1               1000025                5                        1   \n",
       "2               1002945                5                        4   \n",
       "3               1015425                3                        1   \n",
       "4               1016277                6                        8   \n",
       "..                  ...              ...                      ...   \n",
       "695              776715                3                        1   \n",
       "696              841769                2                        1   \n",
       "697              888820                5                       10   \n",
       "698              897471                4                        8   \n",
       "699              897471                4                        8   \n",
       "\n",
       "     Uniformity_of_cell_shape  Marginal_adhesion  Single_epithelial_cell_size  \\\n",
       "0    Uniformity_of_cell_shape  Marginal_adhesion  Single_epithelial_cell_size   \n",
       "1                           1                  1                            2   \n",
       "2                           4                  5                            7   \n",
       "3                           1                  1                            2   \n",
       "4                           8                  1                            3   \n",
       "..                        ...                ...                          ...   \n",
       "695                         1                  1                            3   \n",
       "696                         1                  1                            2   \n",
       "697                        10                  3                            7   \n",
       "698                         6                  4                            3   \n",
       "699                         8                  5                            4   \n",
       "\n",
       "     Bare Nuclei  Bland Chromatin  Normal_nucleoli  Mitoses  class  \n",
       "0    Bare Nuclei  Bland Chromatin  Normal_nucleoli  Mitoses  class  \n",
       "1              1                3                1        1      2  \n",
       "2             10                3                2        1      2  \n",
       "3              2                3                1        1      2  \n",
       "4              4                3                7        1      2  \n",
       "..           ...              ...              ...      ...    ...  \n",
       "695            2                1                1        1      2  \n",
       "696            1                1                1        1      2  \n",
       "697            3                8               10        2      4  \n",
       "698            4               10                6        1      4  \n",
       "699            5               10                4        1      4  \n",
       "\n",
       "[684 rows x 11 columns]>"
      ]
     },
     "execution_count": 4,
     "metadata": {},
     "output_type": "execute_result"
    }
   ],
   "source": [
    "new_data.info"
   ]
  },
  {
   "cell_type": "code",
   "execution_count": 5,
   "id": "948e260c",
   "metadata": {},
   "outputs": [],
   "source": [
    "# Remove the first row (index 0) that contains column names\n",
    "new_data = new_data.drop(0)"
   ]
  },
  {
   "cell_type": "code",
   "execution_count": 6,
   "id": "fc939871",
   "metadata": {},
   "outputs": [
    {
     "name": "stdout",
     "output_type": "stream",
     "text": [
      "<class 'pandas.core.frame.DataFrame'>\n",
      "Int64Index: 683 entries, 1 to 699\n",
      "Data columns (total 11 columns):\n",
      " #   Column                       Non-Null Count  Dtype \n",
      "---  ------                       --------------  ----- \n",
      " 0   Sample_code_number           683 non-null    object\n",
      " 1   Clump_thickness              683 non-null    object\n",
      " 2   Uniformity_of_cell_size      683 non-null    object\n",
      " 3   Uniformity_of_cell_shape     683 non-null    object\n",
      " 4   Marginal_adhesion            683 non-null    object\n",
      " 5   Single_epithelial_cell_size  683 non-null    object\n",
      " 6   Bare Nuclei                  683 non-null    object\n",
      " 7   Bland Chromatin              683 non-null    object\n",
      " 8   Normal_nucleoli              683 non-null    object\n",
      " 9   Mitoses                      683 non-null    object\n",
      " 10  class                        683 non-null    object\n",
      "dtypes: object(11)\n",
      "memory usage: 64.0+ KB\n"
     ]
    }
   ],
   "source": [
    "new_data.info()"
   ]
  },
  {
   "cell_type": "code",
   "execution_count": 7,
   "id": "1644dcc4",
   "metadata": {},
   "outputs": [
    {
     "data": {
      "text/plain": [
       "Sample_code_number             0\n",
       "Clump_thickness                0\n",
       "Uniformity_of_cell_size        0\n",
       "Uniformity_of_cell_shape       0\n",
       "Marginal_adhesion              0\n",
       "Single_epithelial_cell_size    0\n",
       "Bare Nuclei                    0\n",
       "Bland Chromatin                0\n",
       "Normal_nucleoli                0\n",
       "Mitoses                        0\n",
       "class                          0\n",
       "dtype: int64"
      ]
     },
     "execution_count": 7,
     "metadata": {},
     "output_type": "execute_result"
    }
   ],
   "source": [
    "# again checking whether there are \"?\" marks insted of values\n",
    "(new_data=='?').sum()"
   ]
  },
  {
   "cell_type": "code",
   "execution_count": 8,
   "id": "4623acf9",
   "metadata": {},
   "outputs": [],
   "source": [
    "# Convert all columns to int\n",
    "new_data = new_data.astype(int)"
   ]
  },
  {
   "cell_type": "code",
   "execution_count": 9,
   "id": "ae539ff8",
   "metadata": {},
   "outputs": [
    {
     "name": "stdout",
     "output_type": "stream",
     "text": [
      "Correlation Matrix:\n"
     ]
    },
    {
     "data": {
      "text/html": [
       "<div>\n",
       "<style scoped>\n",
       "    .dataframe tbody tr th:only-of-type {\n",
       "        vertical-align: middle;\n",
       "    }\n",
       "\n",
       "    .dataframe tbody tr th {\n",
       "        vertical-align: top;\n",
       "    }\n",
       "\n",
       "    .dataframe thead th {\n",
       "        text-align: right;\n",
       "    }\n",
       "</style>\n",
       "<table border=\"1\" class=\"dataframe\">\n",
       "  <thead>\n",
       "    <tr style=\"text-align: right;\">\n",
       "      <th></th>\n",
       "      <th>Sample_code_number</th>\n",
       "      <th>Clump_thickness</th>\n",
       "      <th>Uniformity_of_cell_size</th>\n",
       "      <th>Uniformity_of_cell_shape</th>\n",
       "      <th>Marginal_adhesion</th>\n",
       "      <th>Single_epithelial_cell_size</th>\n",
       "      <th>Bare Nuclei</th>\n",
       "      <th>Bland Chromatin</th>\n",
       "      <th>Normal_nucleoli</th>\n",
       "      <th>Mitoses</th>\n",
       "      <th>class</th>\n",
       "    </tr>\n",
       "  </thead>\n",
       "  <tbody>\n",
       "    <tr>\n",
       "      <th>Sample_code_number</th>\n",
       "      <td>1.000000</td>\n",
       "      <td>-0.056350</td>\n",
       "      <td>-0.041396</td>\n",
       "      <td>-0.042221</td>\n",
       "      <td>-0.069630</td>\n",
       "      <td>-0.048644</td>\n",
       "      <td>-0.099248</td>\n",
       "      <td>-0.061966</td>\n",
       "      <td>-0.050699</td>\n",
       "      <td>-0.037972</td>\n",
       "      <td>-0.084701</td>\n",
       "    </tr>\n",
       "    <tr>\n",
       "      <th>Clump_thickness</th>\n",
       "      <td>-0.056350</td>\n",
       "      <td>1.000000</td>\n",
       "      <td>0.642481</td>\n",
       "      <td>0.653470</td>\n",
       "      <td>0.487829</td>\n",
       "      <td>0.523596</td>\n",
       "      <td>0.593091</td>\n",
       "      <td>0.553742</td>\n",
       "      <td>0.534066</td>\n",
       "      <td>0.350957</td>\n",
       "      <td>0.714790</td>\n",
       "    </tr>\n",
       "    <tr>\n",
       "      <th>Uniformity_of_cell_size</th>\n",
       "      <td>-0.041396</td>\n",
       "      <td>0.642481</td>\n",
       "      <td>1.000000</td>\n",
       "      <td>0.907228</td>\n",
       "      <td>0.706977</td>\n",
       "      <td>0.753544</td>\n",
       "      <td>0.691709</td>\n",
       "      <td>0.755559</td>\n",
       "      <td>0.719346</td>\n",
       "      <td>0.460755</td>\n",
       "      <td>0.820801</td>\n",
       "    </tr>\n",
       "    <tr>\n",
       "      <th>Uniformity_of_cell_shape</th>\n",
       "      <td>-0.042221</td>\n",
       "      <td>0.653470</td>\n",
       "      <td>0.907228</td>\n",
       "      <td>1.000000</td>\n",
       "      <td>0.685948</td>\n",
       "      <td>0.722462</td>\n",
       "      <td>0.713878</td>\n",
       "      <td>0.735344</td>\n",
       "      <td>0.717963</td>\n",
       "      <td>0.441258</td>\n",
       "      <td>0.821891</td>\n",
       "    </tr>\n",
       "    <tr>\n",
       "      <th>Marginal_adhesion</th>\n",
       "      <td>-0.069630</td>\n",
       "      <td>0.487829</td>\n",
       "      <td>0.706977</td>\n",
       "      <td>0.685948</td>\n",
       "      <td>1.000000</td>\n",
       "      <td>0.594548</td>\n",
       "      <td>0.670648</td>\n",
       "      <td>0.668567</td>\n",
       "      <td>0.603121</td>\n",
       "      <td>0.418898</td>\n",
       "      <td>0.706294</td>\n",
       "    </tr>\n",
       "    <tr>\n",
       "      <th>Single_epithelial_cell_size</th>\n",
       "      <td>-0.048644</td>\n",
       "      <td>0.523596</td>\n",
       "      <td>0.753544</td>\n",
       "      <td>0.722462</td>\n",
       "      <td>0.594548</td>\n",
       "      <td>1.000000</td>\n",
       "      <td>0.585716</td>\n",
       "      <td>0.618128</td>\n",
       "      <td>0.628926</td>\n",
       "      <td>0.480583</td>\n",
       "      <td>0.690958</td>\n",
       "    </tr>\n",
       "    <tr>\n",
       "      <th>Bare Nuclei</th>\n",
       "      <td>-0.099248</td>\n",
       "      <td>0.593091</td>\n",
       "      <td>0.691709</td>\n",
       "      <td>0.713878</td>\n",
       "      <td>0.670648</td>\n",
       "      <td>0.585716</td>\n",
       "      <td>1.000000</td>\n",
       "      <td>0.680615</td>\n",
       "      <td>0.584280</td>\n",
       "      <td>0.339210</td>\n",
       "      <td>0.822696</td>\n",
       "    </tr>\n",
       "    <tr>\n",
       "      <th>Bland Chromatin</th>\n",
       "      <td>-0.061966</td>\n",
       "      <td>0.553742</td>\n",
       "      <td>0.755559</td>\n",
       "      <td>0.735344</td>\n",
       "      <td>0.668567</td>\n",
       "      <td>0.618128</td>\n",
       "      <td>0.680615</td>\n",
       "      <td>1.000000</td>\n",
       "      <td>0.665602</td>\n",
       "      <td>0.346011</td>\n",
       "      <td>0.758228</td>\n",
       "    </tr>\n",
       "    <tr>\n",
       "      <th>Normal_nucleoli</th>\n",
       "      <td>-0.050699</td>\n",
       "      <td>0.534066</td>\n",
       "      <td>0.719346</td>\n",
       "      <td>0.717963</td>\n",
       "      <td>0.603121</td>\n",
       "      <td>0.628926</td>\n",
       "      <td>0.584280</td>\n",
       "      <td>0.665602</td>\n",
       "      <td>1.000000</td>\n",
       "      <td>0.433757</td>\n",
       "      <td>0.718677</td>\n",
       "    </tr>\n",
       "    <tr>\n",
       "      <th>Mitoses</th>\n",
       "      <td>-0.037972</td>\n",
       "      <td>0.350957</td>\n",
       "      <td>0.460755</td>\n",
       "      <td>0.441258</td>\n",
       "      <td>0.418898</td>\n",
       "      <td>0.480583</td>\n",
       "      <td>0.339210</td>\n",
       "      <td>0.346011</td>\n",
       "      <td>0.433757</td>\n",
       "      <td>1.000000</td>\n",
       "      <td>0.423448</td>\n",
       "    </tr>\n",
       "    <tr>\n",
       "      <th>class</th>\n",
       "      <td>-0.084701</td>\n",
       "      <td>0.714790</td>\n",
       "      <td>0.820801</td>\n",
       "      <td>0.821891</td>\n",
       "      <td>0.706294</td>\n",
       "      <td>0.690958</td>\n",
       "      <td>0.822696</td>\n",
       "      <td>0.758228</td>\n",
       "      <td>0.718677</td>\n",
       "      <td>0.423448</td>\n",
       "      <td>1.000000</td>\n",
       "    </tr>\n",
       "  </tbody>\n",
       "</table>\n",
       "</div>"
      ],
      "text/plain": [
       "                             Sample_code_number  Clump_thickness  \\\n",
       "Sample_code_number                     1.000000        -0.056350   \n",
       "Clump_thickness                       -0.056350         1.000000   \n",
       "Uniformity_of_cell_size               -0.041396         0.642481   \n",
       "Uniformity_of_cell_shape              -0.042221         0.653470   \n",
       "Marginal_adhesion                     -0.069630         0.487829   \n",
       "Single_epithelial_cell_size           -0.048644         0.523596   \n",
       "Bare Nuclei                           -0.099248         0.593091   \n",
       "Bland Chromatin                       -0.061966         0.553742   \n",
       "Normal_nucleoli                       -0.050699         0.534066   \n",
       "Mitoses                               -0.037972         0.350957   \n",
       "class                                 -0.084701         0.714790   \n",
       "\n",
       "                             Uniformity_of_cell_size  \\\n",
       "Sample_code_number                         -0.041396   \n",
       "Clump_thickness                             0.642481   \n",
       "Uniformity_of_cell_size                     1.000000   \n",
       "Uniformity_of_cell_shape                    0.907228   \n",
       "Marginal_adhesion                           0.706977   \n",
       "Single_epithelial_cell_size                 0.753544   \n",
       "Bare Nuclei                                 0.691709   \n",
       "Bland Chromatin                             0.755559   \n",
       "Normal_nucleoli                             0.719346   \n",
       "Mitoses                                     0.460755   \n",
       "class                                       0.820801   \n",
       "\n",
       "                             Uniformity_of_cell_shape  Marginal_adhesion  \\\n",
       "Sample_code_number                          -0.042221          -0.069630   \n",
       "Clump_thickness                              0.653470           0.487829   \n",
       "Uniformity_of_cell_size                      0.907228           0.706977   \n",
       "Uniformity_of_cell_shape                     1.000000           0.685948   \n",
       "Marginal_adhesion                            0.685948           1.000000   \n",
       "Single_epithelial_cell_size                  0.722462           0.594548   \n",
       "Bare Nuclei                                  0.713878           0.670648   \n",
       "Bland Chromatin                              0.735344           0.668567   \n",
       "Normal_nucleoli                              0.717963           0.603121   \n",
       "Mitoses                                      0.441258           0.418898   \n",
       "class                                        0.821891           0.706294   \n",
       "\n",
       "                             Single_epithelial_cell_size  Bare Nuclei  \\\n",
       "Sample_code_number                             -0.048644    -0.099248   \n",
       "Clump_thickness                                 0.523596     0.593091   \n",
       "Uniformity_of_cell_size                         0.753544     0.691709   \n",
       "Uniformity_of_cell_shape                        0.722462     0.713878   \n",
       "Marginal_adhesion                               0.594548     0.670648   \n",
       "Single_epithelial_cell_size                     1.000000     0.585716   \n",
       "Bare Nuclei                                     0.585716     1.000000   \n",
       "Bland Chromatin                                 0.618128     0.680615   \n",
       "Normal_nucleoli                                 0.628926     0.584280   \n",
       "Mitoses                                         0.480583     0.339210   \n",
       "class                                           0.690958     0.822696   \n",
       "\n",
       "                             Bland Chromatin  Normal_nucleoli   Mitoses  \\\n",
       "Sample_code_number                 -0.061966        -0.050699 -0.037972   \n",
       "Clump_thickness                     0.553742         0.534066  0.350957   \n",
       "Uniformity_of_cell_size             0.755559         0.719346  0.460755   \n",
       "Uniformity_of_cell_shape            0.735344         0.717963  0.441258   \n",
       "Marginal_adhesion                   0.668567         0.603121  0.418898   \n",
       "Single_epithelial_cell_size         0.618128         0.628926  0.480583   \n",
       "Bare Nuclei                         0.680615         0.584280  0.339210   \n",
       "Bland Chromatin                     1.000000         0.665602  0.346011   \n",
       "Normal_nucleoli                     0.665602         1.000000  0.433757   \n",
       "Mitoses                             0.346011         0.433757  1.000000   \n",
       "class                               0.758228         0.718677  0.423448   \n",
       "\n",
       "                                class  \n",
       "Sample_code_number          -0.084701  \n",
       "Clump_thickness              0.714790  \n",
       "Uniformity_of_cell_size      0.820801  \n",
       "Uniformity_of_cell_shape     0.821891  \n",
       "Marginal_adhesion            0.706294  \n",
       "Single_epithelial_cell_size  0.690958  \n",
       "Bare Nuclei                  0.822696  \n",
       "Bland Chromatin              0.758228  \n",
       "Normal_nucleoli              0.718677  \n",
       "Mitoses                      0.423448  \n",
       "class                        1.000000  "
      ]
     },
     "execution_count": 9,
     "metadata": {},
     "output_type": "execute_result"
    }
   ],
   "source": [
    "# Calculate and print the correlation matrix \n",
    "correlation_matrix = new_data.corr()\n",
    "print(\"Correlation Matrix:\")\n",
    "correlation_matrix"
   ]
  },
  {
   "cell_type": "code",
   "execution_count": 10,
   "id": "450cd69d",
   "metadata": {},
   "outputs": [],
   "source": [
    "# Create a new dataset ('final') by removing the 'Sample_code_number' column\n",
    "final = new_data.drop(columns=['Sample_code_number'])"
   ]
  },
  {
   "cell_type": "code",
   "execution_count": 11,
   "id": "195f894c",
   "metadata": {},
   "outputs": [],
   "source": [
    "# Segregate Dataset into X(Input/IndependentVariable) & Y(Output/DependentVariable)\n",
    "X = final.drop('class', axis=1)\n",
    "Y = final['class']"
   ]
  },
  {
   "cell_type": "code",
   "execution_count": 12,
   "id": "0c809b22",
   "metadata": {},
   "outputs": [
    {
     "name": "stdout",
     "output_type": "stream",
     "text": [
      "Requirement already satisfied: scikit-fuzzy in d:\\program files\\anaconda\\lib\\site-packages (0.4.2)\n",
      "Requirement already satisfied: numpy>=1.6.0 in d:\\program files\\anaconda\\lib\\site-packages (from scikit-fuzzy) (1.24.3)\n",
      "Requirement already satisfied: scipy>=0.9.0 in d:\\program files\\anaconda\\lib\\site-packages (from scikit-fuzzy) (1.10.1)\n",
      "Requirement already satisfied: networkx>=1.9.0 in d:\\program files\\anaconda\\lib\\site-packages (from scikit-fuzzy) (3.1)\n"
     ]
    }
   ],
   "source": [
    "!pip install scikit-fuzzy\n",
    "import skfuzzy as fuzz\n",
    "\n",
    "# Apply Fuzzy C-Means clustering\n",
    "x_np = X.to_numpy().T  # Transpose the data for clustering\n",
    "n_clusters = 2\n",
    "cntr, u, u0, d, jm, p, fpc = fuzz.cluster.cmeans(x_np, n_clusters, 2, error=0.005, maxiter=1000, init=None)"
   ]
  },
  {
   "cell_type": "code",
   "execution_count": 13,
   "id": "ed6a46bf",
   "metadata": {},
   "outputs": [],
   "source": [
    "import skfuzzy as fuzz\n",
    "\n",
    "# Apply Fuzzy C-Means clustering\n",
    "x_np = X.to_numpy().T  # Transpose the data for clustering\n",
    "n_clusters = 2\n",
    "cntr, u, u0, d, jm, p, fpc = fuzz.cluster.cmeans(x_np, n_clusters, 2, error=0.005, maxiter=1000, init=None)"
   ]
  },
  {
   "cell_type": "code",
   "execution_count": 14,
   "id": "986b7b65",
   "metadata": {},
   "outputs": [],
   "source": [
    "# Predict cluster memberships for each data point\n",
    "cluster_membership = np.argmax(u, axis=0)"
   ]
  },
  {
   "cell_type": "code",
   "execution_count": 16,
   "id": "1c3a4778",
   "metadata": {},
   "outputs": [
    {
     "name": "stdout",
     "output_type": "stream",
     "text": [
      "Accuracy (Fuzzy C-Means Clustering): 0.0\n",
      "Sensitivity (Fuzzy C-Means Clustering): 0.0\n",
      "Specificity (Fuzzy C-Means Clustering): 0.0\n"
     ]
    }
   ],
   "source": [
    "from sklearn.metrics import confusion_matrix\n",
    "\n",
    "# Calculate the confusion matrix\n",
    "conf_matrix_fcm = confusion_matrix(Y, cluster_membership)\n",
    "\n",
    "# True Positives, False Positives, True Negatives, False Negatives\n",
    "TP_fcm = conf_matrix_fcm[1, 1]\n",
    "FP_fcm = conf_matrix_fcm[0, 1]\n",
    "TN_fcm = conf_matrix_fcm[0, 0]\n",
    "FN_fcm = conf_matrix_fcm[1, 0]\n",
    "\n",
    "# Accuracy\n",
    "denominator_acc = TP_fcm + TN_fcm + FP_fcm + FN_fcm\n",
    "accuracy_fcm = (TP_fcm + TN_fcm) / denominator_acc if denominator_acc != 0 else 0.0\n",
    "\n",
    "# Sensitivity (True Positive Rate)\n",
    "denominator_sens = TP_fcm + FN_fcm\n",
    "sensitivity_fcm = TP_fcm / denominator_sens if denominator_sens != 0 else 0.0\n",
    "\n",
    "# Specificity (True Negative Rate)\n",
    "denominator_spec = TN_fcm + FP_fcm\n",
    "specificity_fcm = TN_fcm / denominator_spec if denominator_spec != 0 else 0.0\n",
    "\n",
    "# Print the results\n",
    "print(\"Accuracy (Fuzzy C-Means Clustering):\", accuracy_fcm)\n",
    "print(\"Sensitivity (Fuzzy C-Means Clustering):\", sensitivity_fcm)\n",
    "print(\"Specificity (Fuzzy C-Means Clustering):\", specificity_fcm)"
   ]
  },
  {
   "cell_type": "code",
   "execution_count": 17,
   "id": "d8e7f68a",
   "metadata": {},
   "outputs": [
    {
     "name": "stdout",
     "output_type": "stream",
     "text": [
      "Silhouette Score (Fuzzy C-Means Clustering): 0.5973068996605261\n"
     ]
    }
   ],
   "source": [
    "from sklearn.metrics import silhouette_score\n",
    "\n",
    "# Calculate the silhouette score\n",
    "silhouette_avg = silhouette_score(X, cluster_membership, metric='euclidean')\n",
    "\n",
    "print(\"Silhouette Score (Fuzzy C-Means Clustering):\", silhouette_avg)"
   ]
  },
  {
   "cell_type": "code",
   "execution_count": null,
   "id": "2c0a152f",
   "metadata": {},
   "outputs": [],
   "source": []
  }
 ],
 "metadata": {
  "kernelspec": {
   "display_name": "Python 3 (ipykernel)",
   "language": "python",
   "name": "python3"
  },
  "language_info": {
   "codemirror_mode": {
    "name": "ipython",
    "version": 3
   },
   "file_extension": ".py",
   "mimetype": "text/x-python",
   "name": "python",
   "nbconvert_exporter": "python",
   "pygments_lexer": "ipython3",
   "version": "3.11.4"
  }
 },
 "nbformat": 4,
 "nbformat_minor": 5
}
