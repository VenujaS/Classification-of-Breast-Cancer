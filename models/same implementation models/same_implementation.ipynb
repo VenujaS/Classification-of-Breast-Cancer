{
 "cells": [
  {
   "cell_type": "code",
   "execution_count": 1,
   "id": "ecf0ee3f",
   "metadata": {},
   "outputs": [
    {
     "name": "stdout",
     "output_type": "stream",
     "text": [
      "<class 'pandas.core.frame.DataFrame'>\n",
      "RangeIndex: 700 entries, 0 to 699\n",
      "Data columns (total 11 columns):\n",
      " #   Column                       Non-Null Count  Dtype \n",
      "---  ------                       --------------  ----- \n",
      " 0   Sample_code_number           700 non-null    object\n",
      " 1   Clump_thickness              700 non-null    object\n",
      " 2   Uniformity_of_cell_size      700 non-null    object\n",
      " 3   Uniformity_of_cell_shape     700 non-null    object\n",
      " 4   Marginal_adhesion            700 non-null    object\n",
      " 5   Single_epithelial_cell_size  700 non-null    object\n",
      " 6   Bare Nuclei                  700 non-null    object\n",
      " 7   Bland Chromatin              700 non-null    object\n",
      " 8   Normal_nucleoli              700 non-null    object\n",
      " 9   Mitoses                      700 non-null    object\n",
      " 10  class                        700 non-null    object\n",
      "dtypes: object(11)\n",
      "memory usage: 60.3+ KB\n"
     ]
    }
   ],
   "source": [
    "import pandas as pd\n",
    "import numpy as np\n",
    "\n",
    "# Load the dataset\n",
    "dataset = 'breast-cancer-wisconsin.csv'\n",
    "column_names = [\"Sample_code_number\", \"Clump_thickness\", \"Uniformity_of_cell_size\", \"Uniformity_of_cell_shape\",\n",
    "                \"Marginal_adhesion\", \"Single_epithelial_cell_size\", \"Bare Nuclei\", \"Bland Chromatin\",\n",
    "                \"Normal_nucleoli\", \"Mitoses\", \"class\"]\n",
    "data = pd.read_csv(dataset, header=None, names=column_names)\n",
    "data.info()"
   ]
  },
  {
   "cell_type": "code",
   "execution_count": 2,
   "id": "98ad3dbd",
   "metadata": {},
   "outputs": [
    {
     "name": "stdout",
     "output_type": "stream",
     "text": [
      "Sample_code_number              0\n",
      "Clump_thickness                 0\n",
      "Uniformity_of_cell_size         0\n",
      "Uniformity_of_cell_shape        0\n",
      "Marginal_adhesion               0\n",
      "Single_epithelial_cell_size     0\n",
      "Bare Nuclei                    16\n",
      "Bland Chromatin                 0\n",
      "Normal_nucleoli                 0\n",
      "Mitoses                         0\n",
      "class                           0\n",
      "dtype: int64\n"
     ]
    }
   ],
   "source": [
    "# Check for '?' in the dataset\n",
    "print((data == '?').sum())"
   ]
  },
  {
   "cell_type": "code",
   "execution_count": 3,
   "id": "499feb23",
   "metadata": {},
   "outputs": [],
   "source": [
    "# Filter out rows with '?' in the 'Bare Nuclei' column\n",
    "mask = data['Bare Nuclei'] != \"?\"\n",
    "new_data = data[mask]"
   ]
  },
  {
   "cell_type": "code",
   "execution_count": 4,
   "id": "5376df53",
   "metadata": {},
   "outputs": [
    {
     "data": {
      "text/plain": [
       "<bound method DataFrame.info of      Sample_code_number  Clump_thickness  Uniformity_of_cell_size  \\\n",
       "0    Sample_code_number  Clump_thickness  Uniformity_of_cell_size   \n",
       "1               1000025                5                        1   \n",
       "2               1002945                5                        4   \n",
       "3               1015425                3                        1   \n",
       "4               1016277                6                        8   \n",
       "..                  ...              ...                      ...   \n",
       "695              776715                3                        1   \n",
       "696              841769                2                        1   \n",
       "697              888820                5                       10   \n",
       "698              897471                4                        8   \n",
       "699              897471                4                        8   \n",
       "\n",
       "     Uniformity_of_cell_shape  Marginal_adhesion  Single_epithelial_cell_size  \\\n",
       "0    Uniformity_of_cell_shape  Marginal_adhesion  Single_epithelial_cell_size   \n",
       "1                           1                  1                            2   \n",
       "2                           4                  5                            7   \n",
       "3                           1                  1                            2   \n",
       "4                           8                  1                            3   \n",
       "..                        ...                ...                          ...   \n",
       "695                         1                  1                            3   \n",
       "696                         1                  1                            2   \n",
       "697                        10                  3                            7   \n",
       "698                         6                  4                            3   \n",
       "699                         8                  5                            4   \n",
       "\n",
       "     Bare Nuclei  Bland Chromatin  Normal_nucleoli  Mitoses  class  \n",
       "0    Bare Nuclei  Bland Chromatin  Normal_nucleoli  Mitoses  class  \n",
       "1              1                3                1        1      2  \n",
       "2             10                3                2        1      2  \n",
       "3              2                3                1        1      2  \n",
       "4              4                3                7        1      2  \n",
       "..           ...              ...              ...      ...    ...  \n",
       "695            2                1                1        1      2  \n",
       "696            1                1                1        1      2  \n",
       "697            3                8               10        2      4  \n",
       "698            4               10                6        1      4  \n",
       "699            5               10                4        1      4  \n",
       "\n",
       "[684 rows x 11 columns]>"
      ]
     },
     "execution_count": 4,
     "metadata": {},
     "output_type": "execute_result"
    }
   ],
   "source": [
    "new_data.info"
   ]
  },
  {
   "cell_type": "code",
   "execution_count": 5,
   "id": "948e260c",
   "metadata": {},
   "outputs": [],
   "source": [
    "# Remove the first row (index 0) that contains column names\n",
    "new_data = new_data.drop(0)"
   ]
  },
  {
   "cell_type": "code",
   "execution_count": 6,
   "id": "fc939871",
   "metadata": {},
   "outputs": [
    {
     "name": "stdout",
     "output_type": "stream",
     "text": [
      "<class 'pandas.core.frame.DataFrame'>\n",
      "Int64Index: 683 entries, 1 to 699\n",
      "Data columns (total 11 columns):\n",
      " #   Column                       Non-Null Count  Dtype \n",
      "---  ------                       --------------  ----- \n",
      " 0   Sample_code_number           683 non-null    object\n",
      " 1   Clump_thickness              683 non-null    object\n",
      " 2   Uniformity_of_cell_size      683 non-null    object\n",
      " 3   Uniformity_of_cell_shape     683 non-null    object\n",
      " 4   Marginal_adhesion            683 non-null    object\n",
      " 5   Single_epithelial_cell_size  683 non-null    object\n",
      " 6   Bare Nuclei                  683 non-null    object\n",
      " 7   Bland Chromatin              683 non-null    object\n",
      " 8   Normal_nucleoli              683 non-null    object\n",
      " 9   Mitoses                      683 non-null    object\n",
      " 10  class                        683 non-null    object\n",
      "dtypes: object(11)\n",
      "memory usage: 64.0+ KB\n"
     ]
    }
   ],
   "source": [
    "new_data.info()"
   ]
  },
  {
   "cell_type": "code",
   "execution_count": 7,
   "id": "1644dcc4",
   "metadata": {},
   "outputs": [
    {
     "data": {
      "text/plain": [
       "Sample_code_number             0\n",
       "Clump_thickness                0\n",
       "Uniformity_of_cell_size        0\n",
       "Uniformity_of_cell_shape       0\n",
       "Marginal_adhesion              0\n",
       "Single_epithelial_cell_size    0\n",
       "Bare Nuclei                    0\n",
       "Bland Chromatin                0\n",
       "Normal_nucleoli                0\n",
       "Mitoses                        0\n",
       "class                          0\n",
       "dtype: int64"
      ]
     },
     "execution_count": 7,
     "metadata": {},
     "output_type": "execute_result"
    }
   ],
   "source": [
    "# again checking whether there are \"?\" marks insted of values\n",
    "(new_data=='?').sum()"
   ]
  },
  {
   "cell_type": "code",
   "execution_count": 8,
   "id": "4623acf9",
   "metadata": {},
   "outputs": [],
   "source": [
    "# Convert all columns to int\n",
    "new_data = new_data.astype(int)"
   ]
  },
  {
   "cell_type": "code",
   "execution_count": 9,
   "id": "ae539ff8",
   "metadata": {},
   "outputs": [
    {
     "name": "stdout",
     "output_type": "stream",
     "text": [
      "Correlation Matrix:\n"
     ]
    },
    {
     "data": {
      "text/html": [
       "<div>\n",
       "<style scoped>\n",
       "    .dataframe tbody tr th:only-of-type {\n",
       "        vertical-align: middle;\n",
       "    }\n",
       "\n",
       "    .dataframe tbody tr th {\n",
       "        vertical-align: top;\n",
       "    }\n",
       "\n",
       "    .dataframe thead th {\n",
       "        text-align: right;\n",
       "    }\n",
       "</style>\n",
       "<table border=\"1\" class=\"dataframe\">\n",
       "  <thead>\n",
       "    <tr style=\"text-align: right;\">\n",
       "      <th></th>\n",
       "      <th>Sample_code_number</th>\n",
       "      <th>Clump_thickness</th>\n",
       "      <th>Uniformity_of_cell_size</th>\n",
       "      <th>Uniformity_of_cell_shape</th>\n",
       "      <th>Marginal_adhesion</th>\n",
       "      <th>Single_epithelial_cell_size</th>\n",
       "      <th>Bare Nuclei</th>\n",
       "      <th>Bland Chromatin</th>\n",
       "      <th>Normal_nucleoli</th>\n",
       "      <th>Mitoses</th>\n",
       "      <th>class</th>\n",
       "    </tr>\n",
       "  </thead>\n",
       "  <tbody>\n",
       "    <tr>\n",
       "      <th>Sample_code_number</th>\n",
       "      <td>1.000000</td>\n",
       "      <td>-0.056350</td>\n",
       "      <td>-0.041396</td>\n",
       "      <td>-0.042221</td>\n",
       "      <td>-0.069630</td>\n",
       "      <td>-0.048644</td>\n",
       "      <td>-0.099248</td>\n",
       "      <td>-0.061966</td>\n",
       "      <td>-0.050699</td>\n",
       "      <td>-0.037972</td>\n",
       "      <td>-0.084701</td>\n",
       "    </tr>\n",
       "    <tr>\n",
       "      <th>Clump_thickness</th>\n",
       "      <td>-0.056350</td>\n",
       "      <td>1.000000</td>\n",
       "      <td>0.642481</td>\n",
       "      <td>0.653470</td>\n",
       "      <td>0.487829</td>\n",
       "      <td>0.523596</td>\n",
       "      <td>0.593091</td>\n",
       "      <td>0.553742</td>\n",
       "      <td>0.534066</td>\n",
       "      <td>0.350957</td>\n",
       "      <td>0.714790</td>\n",
       "    </tr>\n",
       "    <tr>\n",
       "      <th>Uniformity_of_cell_size</th>\n",
       "      <td>-0.041396</td>\n",
       "      <td>0.642481</td>\n",
       "      <td>1.000000</td>\n",
       "      <td>0.907228</td>\n",
       "      <td>0.706977</td>\n",
       "      <td>0.753544</td>\n",
       "      <td>0.691709</td>\n",
       "      <td>0.755559</td>\n",
       "      <td>0.719346</td>\n",
       "      <td>0.460755</td>\n",
       "      <td>0.820801</td>\n",
       "    </tr>\n",
       "    <tr>\n",
       "      <th>Uniformity_of_cell_shape</th>\n",
       "      <td>-0.042221</td>\n",
       "      <td>0.653470</td>\n",
       "      <td>0.907228</td>\n",
       "      <td>1.000000</td>\n",
       "      <td>0.685948</td>\n",
       "      <td>0.722462</td>\n",
       "      <td>0.713878</td>\n",
       "      <td>0.735344</td>\n",
       "      <td>0.717963</td>\n",
       "      <td>0.441258</td>\n",
       "      <td>0.821891</td>\n",
       "    </tr>\n",
       "    <tr>\n",
       "      <th>Marginal_adhesion</th>\n",
       "      <td>-0.069630</td>\n",
       "      <td>0.487829</td>\n",
       "      <td>0.706977</td>\n",
       "      <td>0.685948</td>\n",
       "      <td>1.000000</td>\n",
       "      <td>0.594548</td>\n",
       "      <td>0.670648</td>\n",
       "      <td>0.668567</td>\n",
       "      <td>0.603121</td>\n",
       "      <td>0.418898</td>\n",
       "      <td>0.706294</td>\n",
       "    </tr>\n",
       "    <tr>\n",
       "      <th>Single_epithelial_cell_size</th>\n",
       "      <td>-0.048644</td>\n",
       "      <td>0.523596</td>\n",
       "      <td>0.753544</td>\n",
       "      <td>0.722462</td>\n",
       "      <td>0.594548</td>\n",
       "      <td>1.000000</td>\n",
       "      <td>0.585716</td>\n",
       "      <td>0.618128</td>\n",
       "      <td>0.628926</td>\n",
       "      <td>0.480583</td>\n",
       "      <td>0.690958</td>\n",
       "    </tr>\n",
       "    <tr>\n",
       "      <th>Bare Nuclei</th>\n",
       "      <td>-0.099248</td>\n",
       "      <td>0.593091</td>\n",
       "      <td>0.691709</td>\n",
       "      <td>0.713878</td>\n",
       "      <td>0.670648</td>\n",
       "      <td>0.585716</td>\n",
       "      <td>1.000000</td>\n",
       "      <td>0.680615</td>\n",
       "      <td>0.584280</td>\n",
       "      <td>0.339210</td>\n",
       "      <td>0.822696</td>\n",
       "    </tr>\n",
       "    <tr>\n",
       "      <th>Bland Chromatin</th>\n",
       "      <td>-0.061966</td>\n",
       "      <td>0.553742</td>\n",
       "      <td>0.755559</td>\n",
       "      <td>0.735344</td>\n",
       "      <td>0.668567</td>\n",
       "      <td>0.618128</td>\n",
       "      <td>0.680615</td>\n",
       "      <td>1.000000</td>\n",
       "      <td>0.665602</td>\n",
       "      <td>0.346011</td>\n",
       "      <td>0.758228</td>\n",
       "    </tr>\n",
       "    <tr>\n",
       "      <th>Normal_nucleoli</th>\n",
       "      <td>-0.050699</td>\n",
       "      <td>0.534066</td>\n",
       "      <td>0.719346</td>\n",
       "      <td>0.717963</td>\n",
       "      <td>0.603121</td>\n",
       "      <td>0.628926</td>\n",
       "      <td>0.584280</td>\n",
       "      <td>0.665602</td>\n",
       "      <td>1.000000</td>\n",
       "      <td>0.433757</td>\n",
       "      <td>0.718677</td>\n",
       "    </tr>\n",
       "    <tr>\n",
       "      <th>Mitoses</th>\n",
       "      <td>-0.037972</td>\n",
       "      <td>0.350957</td>\n",
       "      <td>0.460755</td>\n",
       "      <td>0.441258</td>\n",
       "      <td>0.418898</td>\n",
       "      <td>0.480583</td>\n",
       "      <td>0.339210</td>\n",
       "      <td>0.346011</td>\n",
       "      <td>0.433757</td>\n",
       "      <td>1.000000</td>\n",
       "      <td>0.423448</td>\n",
       "    </tr>\n",
       "    <tr>\n",
       "      <th>class</th>\n",
       "      <td>-0.084701</td>\n",
       "      <td>0.714790</td>\n",
       "      <td>0.820801</td>\n",
       "      <td>0.821891</td>\n",
       "      <td>0.706294</td>\n",
       "      <td>0.690958</td>\n",
       "      <td>0.822696</td>\n",
       "      <td>0.758228</td>\n",
       "      <td>0.718677</td>\n",
       "      <td>0.423448</td>\n",
       "      <td>1.000000</td>\n",
       "    </tr>\n",
       "  </tbody>\n",
       "</table>\n",
       "</div>"
      ],
      "text/plain": [
       "                             Sample_code_number  Clump_thickness  \\\n",
       "Sample_code_number                     1.000000        -0.056350   \n",
       "Clump_thickness                       -0.056350         1.000000   \n",
       "Uniformity_of_cell_size               -0.041396         0.642481   \n",
       "Uniformity_of_cell_shape              -0.042221         0.653470   \n",
       "Marginal_adhesion                     -0.069630         0.487829   \n",
       "Single_epithelial_cell_size           -0.048644         0.523596   \n",
       "Bare Nuclei                           -0.099248         0.593091   \n",
       "Bland Chromatin                       -0.061966         0.553742   \n",
       "Normal_nucleoli                       -0.050699         0.534066   \n",
       "Mitoses                               -0.037972         0.350957   \n",
       "class                                 -0.084701         0.714790   \n",
       "\n",
       "                             Uniformity_of_cell_size  \\\n",
       "Sample_code_number                         -0.041396   \n",
       "Clump_thickness                             0.642481   \n",
       "Uniformity_of_cell_size                     1.000000   \n",
       "Uniformity_of_cell_shape                    0.907228   \n",
       "Marginal_adhesion                           0.706977   \n",
       "Single_epithelial_cell_size                 0.753544   \n",
       "Bare Nuclei                                 0.691709   \n",
       "Bland Chromatin                             0.755559   \n",
       "Normal_nucleoli                             0.719346   \n",
       "Mitoses                                     0.460755   \n",
       "class                                       0.820801   \n",
       "\n",
       "                             Uniformity_of_cell_shape  Marginal_adhesion  \\\n",
       "Sample_code_number                          -0.042221          -0.069630   \n",
       "Clump_thickness                              0.653470           0.487829   \n",
       "Uniformity_of_cell_size                      0.907228           0.706977   \n",
       "Uniformity_of_cell_shape                     1.000000           0.685948   \n",
       "Marginal_adhesion                            0.685948           1.000000   \n",
       "Single_epithelial_cell_size                  0.722462           0.594548   \n",
       "Bare Nuclei                                  0.713878           0.670648   \n",
       "Bland Chromatin                              0.735344           0.668567   \n",
       "Normal_nucleoli                              0.717963           0.603121   \n",
       "Mitoses                                      0.441258           0.418898   \n",
       "class                                        0.821891           0.706294   \n",
       "\n",
       "                             Single_epithelial_cell_size  Bare Nuclei  \\\n",
       "Sample_code_number                             -0.048644    -0.099248   \n",
       "Clump_thickness                                 0.523596     0.593091   \n",
       "Uniformity_of_cell_size                         0.753544     0.691709   \n",
       "Uniformity_of_cell_shape                        0.722462     0.713878   \n",
       "Marginal_adhesion                               0.594548     0.670648   \n",
       "Single_epithelial_cell_size                     1.000000     0.585716   \n",
       "Bare Nuclei                                     0.585716     1.000000   \n",
       "Bland Chromatin                                 0.618128     0.680615   \n",
       "Normal_nucleoli                                 0.628926     0.584280   \n",
       "Mitoses                                         0.480583     0.339210   \n",
       "class                                           0.690958     0.822696   \n",
       "\n",
       "                             Bland Chromatin  Normal_nucleoli   Mitoses  \\\n",
       "Sample_code_number                 -0.061966        -0.050699 -0.037972   \n",
       "Clump_thickness                     0.553742         0.534066  0.350957   \n",
       "Uniformity_of_cell_size             0.755559         0.719346  0.460755   \n",
       "Uniformity_of_cell_shape            0.735344         0.717963  0.441258   \n",
       "Marginal_adhesion                   0.668567         0.603121  0.418898   \n",
       "Single_epithelial_cell_size         0.618128         0.628926  0.480583   \n",
       "Bare Nuclei                         0.680615         0.584280  0.339210   \n",
       "Bland Chromatin                     1.000000         0.665602  0.346011   \n",
       "Normal_nucleoli                     0.665602         1.000000  0.433757   \n",
       "Mitoses                             0.346011         0.433757  1.000000   \n",
       "class                               0.758228         0.718677  0.423448   \n",
       "\n",
       "                                class  \n",
       "Sample_code_number          -0.084701  \n",
       "Clump_thickness              0.714790  \n",
       "Uniformity_of_cell_size      0.820801  \n",
       "Uniformity_of_cell_shape     0.821891  \n",
       "Marginal_adhesion            0.706294  \n",
       "Single_epithelial_cell_size  0.690958  \n",
       "Bare Nuclei                  0.822696  \n",
       "Bland Chromatin              0.758228  \n",
       "Normal_nucleoli              0.718677  \n",
       "Mitoses                      0.423448  \n",
       "class                        1.000000  "
      ]
     },
     "execution_count": 9,
     "metadata": {},
     "output_type": "execute_result"
    }
   ],
   "source": [
    "# Calculate and print the correlation matrix \n",
    "correlation_matrix = new_data.corr()\n",
    "print(\"Correlation Matrix:\")\n",
    "correlation_matrix"
   ]
  },
  {
   "cell_type": "code",
   "execution_count": 10,
   "id": "450cd69d",
   "metadata": {},
   "outputs": [],
   "source": [
    "# Create a new dataset ('final') by removing the 'Sample_code_number' column\n",
    "final = new_data.drop(columns=['Sample_code_number'])"
   ]
  },
  {
   "cell_type": "code",
   "execution_count": 11,
   "id": "195f894c",
   "metadata": {},
   "outputs": [],
   "source": [
    "# Segregate Dataset into X(Input/IndependentVariable) & Y(Output/DependentVariable)\n",
    "X = final.drop('class', axis=1)\n",
    "Y = final['class']"
   ]
  },
  {
   "cell_type": "code",
   "execution_count": 12,
   "id": "9415dda2",
   "metadata": {},
   "outputs": [],
   "source": [
    "from sklearn.model_selection import train_test_split\n",
    "# Train-test split after correlation analysis\n",
    "x_train, x_test, y_train, y_test = train_test_split(X, Y, test_size=0.4, random_state=0)"
   ]
  },
  {
   "cell_type": "markdown",
   "id": "dd8b93b6",
   "metadata": {},
   "source": [
    "### SVM with RBF kernel"
   ]
  },
  {
   "cell_type": "code",
   "execution_count": 13,
   "id": "08cdde48",
   "metadata": {},
   "outputs": [],
   "source": [
    "from sklearn.svm import SVC\n",
    "\n",
    "# Initialize the Linear Discriminant Analysis classifier\n",
    "clf_SVM_RBF = SVC(kernel='rbf', C=1.0, gamma='scale', random_state=0, probability=True)\n",
    "\n",
    "from sklearn.model_selection import cross_val_score\n",
    "\n",
    "# Perform k-fold cross-validation and calculate the accuracy for each fold\n",
    "cv_scores_clf_SVM_RBF = cross_val_score(clf_SVM_RBF, x_train, y_train, cv=5)\n",
    "\n",
    "# Calculate the standard deviation of cross-validation scores\n",
    "std_deviation_clf_SVM_RBF = np.std(cv_scores_clf_SVM_RBF)"
   ]
  },
  {
   "cell_type": "code",
   "execution_count": 14,
   "id": "a7510237",
   "metadata": {},
   "outputs": [
    {
     "name": "stdout",
     "output_type": "stream",
     "text": [
      "SVm with RBF kernel\n",
      "Cross-Validation Scores on Training Set: [0.98780488 0.96341463 0.98780488 0.97560976 0.95061728]\n",
      "Mean Accuracy on Training Set: 0.9730502860584161\n",
      "Standard Deviation of Cross-Validation Scores on Training Set: 0.014408554596660302\n"
     ]
    }
   ],
   "source": [
    "# Print the accuracy for each fold during cross-validation\n",
    "print(\"SVm with RBF kernel\")\n",
    "print(\"Cross-Validation Scores on Training Set:\", cv_scores_clf_SVM_RBF)\n",
    "print(\"Mean Accuracy on Training Set:\", np.mean(cv_scores_clf_SVM_RBF))\n",
    "print(\"Standard Deviation of Cross-Validation Scores on Training Set:\", std_deviation_clf_SVM_RBF)"
   ]
  },
  {
   "cell_type": "code",
   "execution_count": 15,
   "id": "26bf1c2a",
   "metadata": {},
   "outputs": [],
   "source": [
    "# Fit the classifier on the training set\n",
    "# Make predictions on the testing set\n",
    "y_pred_SVM_RBF = clf_SVM_RBF.fit(x_train, y_train).predict(x_test)"
   ]
  },
  {
   "cell_type": "code",
   "execution_count": 16,
   "id": "08e33ae4",
   "metadata": {},
   "outputs": [
    {
     "name": "stdout",
     "output_type": "stream",
     "text": [
      "For SVM with RBF kernel\n",
      "Accuracy: 0.9562043795620438\n",
      "Sensitivity: 0.97\n",
      "Specificity: 0.9482758620689655\n"
     ]
    }
   ],
   "source": [
    "from sklearn.metrics import confusion_matrix\n",
    "\n",
    "# Confusion matrix\n",
    "conf_matrix_SVM_RBF = confusion_matrix(y_test, y_pred_SVM_RBF)\n",
    "\n",
    "# True Positives, False Positives, True Negatives, False Negatives\n",
    "TP_SVM_RBF = conf_matrix_SVM_RBF[1, 1]\n",
    "FP_SVM_RBF = conf_matrix_SVM_RBF[0, 1]\n",
    "TN_SVM_RBF = conf_matrix_SVM_RBF[0, 0]\n",
    "FN_SVM_RBF = conf_matrix_SVM_RBF[1, 0]\n",
    "\n",
    "# Accuracy\n",
    "accuracy_SVM_RBF = (TP_SVM_RBF + TN_SVM_RBF) / (TP_SVM_RBF + TN_SVM_RBF + FP_SVM_RBF + FN_SVM_RBF)\n",
    "\n",
    "# Sensitivity (True Positive Rate)\n",
    "sensitivity_SVM_RBF = TP_SVM_RBF / (TP_SVM_RBF + FN_SVM_RBF)\n",
    "\n",
    "# Specificity (True Negative Rate)\n",
    "specificity_SVM_RBF = TN_SVM_RBF / (TN_SVM_RBF + FP_SVM_RBF)\n",
    "\n",
    "print(\"For SVM with RBF kernel\")\n",
    "print(\"Accuracy:\", accuracy_SVM_RBF)\n",
    "print(\"Sensitivity:\", sensitivity_SVM_RBF)\n",
    "print(\"Specificity:\", specificity_SVM_RBF)"
   ]
  },
  {
   "cell_type": "markdown",
   "id": "9b4e3262",
   "metadata": {},
   "source": [
    "### Artificial Neural Network (ANN) with a single hidden layer"
   ]
  },
  {
   "cell_type": "code",
   "execution_count": 17,
   "id": "7320c874",
   "metadata": {},
   "outputs": [],
   "source": [
    "from sklearn.neural_network import MLPClassifier\n",
    "\n",
    "# Initialize the Artificial Neural Network (ANN) classifier with a single hidden layer\n",
    "# You can adjust the parameters like hidden_layer_sizes, activation, solver, etc.\n",
    "clf_ann = MLPClassifier(hidden_layer_sizes=(100,), activation='relu', solver='adam', random_state=0, max_iter=1000)"
   ]
  },
  {
   "cell_type": "code",
   "execution_count": 18,
   "id": "7eca1905",
   "metadata": {},
   "outputs": [],
   "source": [
    "# Fit the classifier on the training set\n",
    "# Make predictions on the testing set\n",
    "y_pred_clf_ann = clf_ann.fit(x_train, y_train).predict(x_test)"
   ]
  },
  {
   "cell_type": "code",
   "execution_count": 19,
   "id": "8916abfd",
   "metadata": {},
   "outputs": [
    {
     "name": "stdout",
     "output_type": "stream",
     "text": [
      "For ANN\n",
      "Accuracy: 0.9635036496350365\n",
      "Sensitivity: 0.97\n",
      "Specificity: 0.9597701149425287\n"
     ]
    }
   ],
   "source": [
    "from sklearn.metrics import confusion_matrix\n",
    "\n",
    "# Confusion matrix\n",
    "conf_matrix_clf_ann = confusion_matrix(y_test, y_pred_clf_ann)\n",
    "\n",
    "# True Positives, False Positives, True Negatives, False Negatives\n",
    "TP_clf_ann = conf_matrix_clf_ann[1, 1]\n",
    "FP_clf_ann = conf_matrix_clf_ann[0, 1]\n",
    "TN_clf_ann = conf_matrix_clf_ann[0, 0]\n",
    "FN_clf_ann = conf_matrix_clf_ann[1, 0]\n",
    "\n",
    "# Accuracy\n",
    "accuracy_clf_ann = (TP_clf_ann + TN_clf_ann) / (TP_clf_ann + TN_clf_ann + FP_clf_ann + FN_clf_ann)\n",
    "\n",
    "# Sensitivity (True Positive Rate)\n",
    "sensitivity_clf_ann = TP_clf_ann / (TP_clf_ann + FN_clf_ann)\n",
    "\n",
    "# Specificity (True Negative Rate)\n",
    "specificity_clf_ann = TN_clf_ann / (TN_clf_ann + FP_clf_ann)\n",
    "\n",
    "print(\"For ANN\")\n",
    "print(\"Accuracy:\", accuracy_clf_ann)\n",
    "print(\"Sensitivity:\", sensitivity_clf_ann)\n",
    "print(\"Specificity:\", specificity_clf_ann)"
   ]
  },
  {
   "cell_type": "markdown",
   "id": "7b3600ec",
   "metadata": {},
   "source": [
    "### Regularized logistic regression with LASSO using General linear model"
   ]
  },
  {
   "cell_type": "code",
   "execution_count": 20,
   "id": "ba2e9910",
   "metadata": {},
   "outputs": [],
   "source": [
    "from sklearn.linear_model import ElasticNetCV, MultiTaskElasticNetCV\n",
    "\n",
    "# Initialize the LogitNet model with L1 regularization\n",
    "clf_glm = ElasticNetCV(cv=10)"
   ]
  },
  {
   "cell_type": "code",
   "execution_count": 21,
   "id": "91549c99",
   "metadata": {},
   "outputs": [],
   "source": [
    "# Fit the classifier on the training set\n",
    "# Make predictions on the testing set\n",
    "y_pred_clf_glm = clf_glm.fit(x_train, y_train).predict(x_test)\n",
    "threshold = 3\n",
    "predicted_labels = np.where(y_pred_clf_glm < threshold, 2, 4)"
   ]
  },
  {
   "cell_type": "code",
   "execution_count": 22,
   "id": "5bfbe408",
   "metadata": {},
   "outputs": [
    {
     "name": "stdout",
     "output_type": "stream",
     "text": [
      "For Regularized logistic regression with LASSO using General linear model\n",
      "Accuracy: 0.9416058394160584\n",
      "Sensitivity: 0.89\n",
      "Specificity: 0.9825581395348837\n"
     ]
    }
   ],
   "source": [
    "from sklearn.metrics import confusion_matrix\n",
    "\n",
    "# Confusion matrix\n",
    "conf_matrix_clf_glm = confusion_matrix(y_test, predicted_labels)\n",
    "\n",
    "# True Positives, False Positives, True Negatives, False Negatives\n",
    "TP_clf_glm = conf_matrix_clf_glm[1, 1]\n",
    "FP_clf_glm = conf_matrix_clf_glm[0, 1]\n",
    "TN_clf_glm = conf_matrix_clf_glm[0, 0]\n",
    "FN_clf_glm = conf_matrix_clf_glm[1, 0]\n",
    "\n",
    "# Accuracy\n",
    "accuracy_clf_glm = (TP_clf_glm + TN_clf_glm) / (TP_clf_glm + TN_clf_glm + FP_clf_glm + FN_clf_glm)\n",
    "\n",
    "# Sensitivity (True Positive Rate)\n",
    "sensitivity_clf_glm = TP_clf_glm / (TP_clf_glm + FN_clf_glm)\n",
    "\n",
    "# Specificity (True Negative Rate)\n",
    "specificity_clf_glm = TN_clf_glm / (TN_clf_ann + FP_clf_glm)\n",
    "\n",
    "print(\"For Regularized logistic regression with LASSO using General linear model\")\n",
    "print(\"Accuracy:\", accuracy_clf_glm)\n",
    "print(\"Sensitivity:\", sensitivity_clf_glm)\n",
    "print(\"Specificity:\", specificity_clf_glm)"
   ]
  },
  {
   "cell_type": "code",
   "execution_count": 23,
   "id": "1adea2df",
   "metadata": {},
   "outputs": [
    {
     "name": "stdout",
     "output_type": "stream",
     "text": [
      "For Hard Voting Ensembling:\n",
      "Accuracy: 0.9562043795620438\n",
      "Sensitivity: 0.97\n",
      "Specificity: 0.9482758620689655\n"
     ]
    }
   ],
   "source": [
    "from sklearn.ensemble import VotingClassifier\n",
    "from sklearn.linear_model import LogisticRegression\n",
    "\n",
    "clf_glm1 = LogisticRegression(penalty='l1', solver='liblinear', random_state=0)\n",
    "\n",
    "# Create a voting classifier (hard voting)\n",
    "voting_clf_hard = VotingClassifier(estimators=[\n",
    "    ('svm_rbf', clf_SVM_RBF),\n",
    "    ('ann', clf_ann),\n",
    "    ('glm', clf_glm1)\n",
    "], voting='hard')\n",
    "\n",
    "# Fit the hard voting classifier on the training set\n",
    "voting_clf_hard.fit(x_train, y_train)\n",
    "\n",
    "# Make predictions on the testing set\n",
    "y_pred_hard = voting_clf_hard.predict(x_test)\n",
    "\n",
    "# Evaluate performance for hard voting\n",
    "conf_matrix_hard = confusion_matrix(y_test, y_pred_hard)\n",
    "accuracy_hard = np.sum(np.diag(conf_matrix_hard)) / np.sum(conf_matrix_hard)\n",
    "sensitivity_hard = conf_matrix_hard[1, 1] / (conf_matrix_hard[1, 1] + conf_matrix_hard[1, 0])\n",
    "specificity_hard = conf_matrix_hard[0, 0] / (conf_matrix_hard[0, 0] + conf_matrix_hard[0, 1])\n",
    "\n",
    "# Print results for hard voting\n",
    "print(\"For Hard Voting Ensembling:\")\n",
    "print(\"Accuracy:\", accuracy_hard)\n",
    "print(\"Sensitivity:\", sensitivity_hard)\n",
    "print(\"Specificity:\", specificity_hard)"
   ]
  },
  {
   "cell_type": "code",
   "execution_count": 24,
   "id": "eacf71c5",
   "metadata": {},
   "outputs": [
    {
     "name": "stdout",
     "output_type": "stream",
     "text": [
      "\n",
      "For Soft Voting Ensembling:\n",
      "Accuracy: 0.9562043795620438\n",
      "Sensitivity: 0.96\n",
      "Specificity: 0.9540229885057471\n"
     ]
    }
   ],
   "source": [
    "# Create a voting classifier (soft voting)\n",
    "voting_clf_soft = VotingClassifier(estimators=[\n",
    "    ('svm_rbf', clf_SVM_RBF),\n",
    "    ('ann', clf_ann),\n",
    "    ('glm', clf_glm1)\n",
    "], voting='soft')\n",
    "\n",
    "# Fit the soft voting classifier on the training set\n",
    "voting_clf_soft.fit(x_train, y_train)\n",
    "\n",
    "# Make predictions on the testing set\n",
    "y_pred_soft = voting_clf_soft.predict(x_test)\n",
    "\n",
    "# Evaluate performance for soft voting\n",
    "conf_matrix_soft = confusion_matrix(y_test, y_pred_soft)\n",
    "accuracy_soft = np.sum(np.diag(conf_matrix_soft)) / np.sum(conf_matrix_soft)\n",
    "sensitivity_soft = conf_matrix_soft[1, 1] / (conf_matrix_soft[1, 1] + conf_matrix_soft[1, 0])\n",
    "specificity_soft = conf_matrix_soft[0, 0] / (conf_matrix_soft[0, 0] + conf_matrix_soft[0, 1])\n",
    "\n",
    "# Print results for soft voting\n",
    "print(\"\\nFor Soft Voting Ensembling:\")\n",
    "print(\"Accuracy:\", accuracy_soft)\n",
    "print(\"Sensitivity:\", sensitivity_soft)\n",
    "print(\"Specificity:\", specificity_soft)"
   ]
  }
 ],
 "metadata": {
  "kernelspec": {
   "display_name": "Python 3 (ipykernel)",
   "language": "python",
   "name": "python3"
  },
  "language_info": {
   "codemirror_mode": {
    "name": "ipython",
    "version": 3
   },
   "file_extension": ".py",
   "mimetype": "text/x-python",
   "name": "python",
   "nbconvert_exporter": "python",
   "pygments_lexer": "ipython3",
   "version": "3.11.4"
  }
 },
 "nbformat": 4,
 "nbformat_minor": 5
}
